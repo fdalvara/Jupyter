{
 "cells": [
  {
   "cell_type": "markdown",
   "metadata": {},
   "source": [
    "# Tópicos a revisar.\n",
    "1. Herramienta de trabajo.\n",
    "2. Turtle python.\n",
    "3. Algoritmos.\n",
    "4. Variables.\n",
    "5. I/O y operaciones básicas."
   ]
  },
  {
   "cell_type": "markdown",
   "metadata": {},
   "source": [
    "# 1. Herramienta de trabajo\n",
    "www.trinket.io<br/>\n",
    "* Nos permite ejecutar código de python en nuestro navegador web, evitando instalaciones complicadas.\n",
    "\n",
    "* Nuestro código queda guardado en la web, podemos continuar nuestro programa cualquier computador con un navegador web moderno.\n",
    "\n",
    "* Nos proporciona un entorno de desarrollo visual.\n",
    "\n",
    "## Debemos crearnos una cuenta para ocupar las funcionalidades de la página!.\n"
   ]
  },
  {
   "cell_type": "markdown",
   "metadata": {},
   "source": [
    "# 2. Turtle python\n",
    "\n",
    "Turtle es una librería que nos proporciona un lienzo donde comandaremos a una tortuga para que dibuje.\n",
    "\n",
    "Ejemplo : http://bit.ly/2T4K9EL\n"
   ]
  },
  {
   "cell_type": "markdown",
   "metadata": {},
   "source": [
    "# 3. Algoritmos\n",
    "\n",
    "Secuencia de pasos para cumplir un objetivo.\n",
    "\n",
    "Desafío n°1. Dibujar un cuadrado.\n",
    "\n",
    "Solución. http://bit.ly/2GQuouD\n",
    "\n",
    "Desafío n°2. Dibujar un triángulo.\n",
    "\n",
    "Solución. http://bit.ly/2Sx4H3x\n",
    "\n",
    "Desafío n°3. Dibujar una estrella.\n",
    "\n",
    "Solución. http://bit.ly/2NyvYlx"
   ]
  },
  {
   "cell_type": "markdown",
   "metadata": {},
   "source": [
    "# 4. Variables\n",
    "\n",
    "Contenedores de datos de texto, númericos o booleanos, que pueden ir cambiando de valor en el tiempo.\n",
    "\n",
    "```python\n",
    "var01 = \"Esto es una variable de texto\" # variable de texto\n",
    "var02 = 7                               # variable numérica entera\n",
    "var03 = 7.5                             # variable numérica decimal\n",
    "var04 = True                            # variable booleana\n",
    "```\n",
    "\n",
    "El nombre de la variable es importante para identificarla!.\n",
    "## Pésimos nombres \n",
    "```python\n",
    "lucho = \"Esto es una variable de texto\" \n",
    "jara = 7                                \n",
    "asdf = 7.5                              \n",
    "gatito = true                          \n",
    "```\n",
    "## No se pueden ocupar espacios!, se recomienda el guion bajo para palabras compuestas. \n",
    "\n",
    "## Evitar uso de la 'ñ' y/o carácteres especiales\n",
    "\n",
    "Desafío n°1. Dibujar un cuadrado considerando el uso de variables.\n",
    "\n",
    "Solución. http://bit.ly/2BWxlFP\n",
    "\n",
    "Desafío n°2. Dibujar un rectángulo considerando el uso de variables.\n",
    "\n",
    "Solución. http://bit.ly/2GPspXu"
   ]
  },
  {
   "cell_type": "markdown",
   "metadata": {},
   "source": [
    "# 5. I/O y operaciones básicas\n",
    "\n",
    "I/O se refiere a \"input/output\", básicamente esperar un ingreso de datos y entregar un resultado.\n",
    "Comandos importantes\n",
    "```python\n",
    "input(\"Mensaje que se le entregará al usuario \")\n",
    "print(\"Lo que se mostrará en pantalla\")\n",
    "```"
   ]
  },
  {
   "cell_type": "code",
   "execution_count": null,
   "metadata": {
    "scrolled": true
   },
   "outputs": [],
   "source": [
    "nombre = input(\"Cuál es tu nombre? \") #No ocurre nada más ..."
   ]
  },
  {
   "cell_type": "code",
   "execution_count": null,
   "metadata": {
    "scrolled": true
   },
   "outputs": [],
   "source": [
    "nombre = input(\"Cuál es tu nombre? \")\n",
    "print(nombre)"
   ]
  },
  {
   "cell_type": "code",
   "execution_count": null,
   "metadata": {},
   "outputs": [],
   "source": [
    "nombre = input(\"Cuál es tu nombre? \") #No ocurre nada más ...\n",
    "print(\"Saludos \"+nombre)"
   ]
  },
  {
   "cell_type": "markdown",
   "metadata": {},
   "source": [
    "## Operaciones básicas\n",
    "Los números admiten las 4 operaciones básicas de la matemática\n",
    "\n",
    "suma +\n",
    "```python\n",
    "n = 5+3\n",
    "```\n",
    "resta -\n",
    "```python\n",
    "n = 5-3\n",
    "```\n",
    "multiplicación *\n",
    "```python\n",
    "n = 5*3\n",
    "```\n",
    "división /\n",
    "```python\n",
    "n = 5/3\n",
    "```\n",
    "\n",
    "Además soporta algunas que pueden ser relevantes\n",
    "\n",
    "división entera //\n",
    "```python\n",
    "n = 5//3\n",
    "```\n",
    "módulo o resto %\n",
    "```python\n",
    "n = 5%3\n",
    "```\n",
    "Las variables de texto admiten 2 de estas operaciones.\n",
    "\n",
    "suma +\n",
    "```python\n",
    "n = \"hola \"+\"como \"+\"estas?\"\n",
    "```\n",
    "multiplicación *\n",
    "```python\n",
    "n = \"hola \"*3\n",
    "```"
   ]
  },
  {
   "cell_type": "code",
   "execution_count": null,
   "metadata": {},
   "outputs": [],
   "source": [
    "#Sumar 2 números entregados por el usuario\n",
    "n1 = input(\"Ingrese el primer sumando \")\n",
    "n2 = input(\"Ingrese el segundo sumando \")\n",
    "n3 = n1+n2\n",
    "print(\"El resultado es \"+n3)"
   ]
  },
  {
   "cell_type": "markdown",
   "metadata": {},
   "source": [
    "&nbsp;\n",
    "\n",
    "&nbsp;\n",
    "\n",
    "&nbsp;\n",
    "\n",
    "&nbsp;\n",
    "\n",
    "&nbsp;\n",
    "\n",
    "&nbsp;\n",
    "\n",
    "&nbsp;\n",
    "\n",
    "&nbsp;\n",
    "\n",
    "&nbsp;\n",
    "\n",
    "&nbsp;\n",
    "\n",
    "&nbsp;"
   ]
  },
  {
   "cell_type": "code",
   "execution_count": null,
   "metadata": {},
   "outputs": [],
   "source": [
    "#Sumar 2 números entregados por el usuario\n",
    "n1 = int(input(\"Ingrese el primer sumando \"))\n",
    "n2 = int(input(\"Ingrese el segundo sumando \"))\n",
    "n3 = n1+n2\n",
    "print(\"El resultado es \"+n3)"
   ]
  },
  {
   "cell_type": "markdown",
   "metadata": {},
   "source": [
    "&nbsp;\n",
    "\n",
    "&nbsp;\n",
    "\n",
    "&nbsp;\n",
    "\n",
    "&nbsp;\n",
    "\n",
    "&nbsp;\n",
    "\n",
    "&nbsp;\n",
    "\n",
    "&nbsp;\n",
    "\n",
    "&nbsp;\n",
    "\n",
    "&nbsp;\n",
    "\n",
    "&nbsp;\n",
    "\n",
    "&nbsp;"
   ]
  },
  {
   "cell_type": "code",
   "execution_count": null,
   "metadata": {},
   "outputs": [],
   "source": [
    "#Sumar 2 números entregados por el usuario\n",
    "n1 = int(input(\"Ingrese el primer sumando \"))\n",
    "n2 = int(input(\"Ingrese el segundo sumando \"))\n",
    "n3 = n1+n2\n",
    "print(\"El resultado es \"+str(n3))"
   ]
  },
  {
   "cell_type": "markdown",
   "metadata": {},
   "source": [
    "&nbsp;\n",
    "\n",
    "&nbsp;\n",
    "\n",
    "&nbsp;\n",
    "\n",
    "&nbsp;\n",
    "\n",
    "&nbsp;\n",
    "\n",
    "&nbsp;\n",
    "\n",
    "&nbsp;\n",
    "\n",
    "&nbsp;\n",
    "\n",
    "&nbsp;\n",
    "\n",
    "&nbsp;\n",
    "\n",
    "&nbsp;"
   ]
  },
  {
   "cell_type": "code",
   "execution_count": null,
   "metadata": {},
   "outputs": [],
   "source": [
    "#Sumar 2 números entregados por el usuario\n",
    "n1 = int(input(\"Ingrese el primer sumando \"))\n",
    "n2 = int(input(\"Ingrese el segundo sumando \"))\n",
    "n3 = n1+n2\n",
    "print(\"El resultado es %d\"%n3)"
   ]
  },
  {
   "cell_type": "markdown",
   "metadata": {},
   "source": [
    "Desafío n°1. Diseñar un programa que divida dos números y entregue su resultado.\n",
    "\n",
    "Solución. http://bit.ly/2IFlVfu\n",
    "\n",
    "Desafío n°2. Diseñar un programa que entregue la potencia de dos de un número.\n",
    "\n",
    "Solución. http://bit.ly/2NAnHxs\n",
    "\n",
    "Desafío n°3.\n",
    "\n",
    "Diseñar un programa que: \n",
    "\n",
    "1. Pida el peso y la altura de una persona.\n",
    "\n",
    "2. Calcule el imc\n",
    "\n",
    "3. Entregue el resultado\n",
    "\n",
    "Solución. http://bit.ly/2T2WitT"
   ]
  },
  {
   "cell_type": "markdown",
   "metadata": {},
   "source": [
    "# Fin de la capacitación!."
   ]
  }
 ],
 "metadata": {
  "kernelspec": {
   "display_name": "Python 3",
   "language": "python",
   "name": "python3"
  },
  "language_info": {
   "codemirror_mode": {
    "name": "ipython",
    "version": 3
   },
   "file_extension": ".py",
   "mimetype": "text/x-python",
   "name": "python",
   "nbconvert_exporter": "python",
   "pygments_lexer": "ipython3",
   "version": "3.7.1"
  }
 },
 "nbformat": 4,
 "nbformat_minor": 2
}
